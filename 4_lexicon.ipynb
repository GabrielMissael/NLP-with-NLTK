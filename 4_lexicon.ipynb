{
 "cells": [
  {
   "cell_type": "code",
   "execution_count": 1,
   "id": "4e2114a8-b178-425d-934d-ac9099fb69cc",
   "metadata": {},
   "outputs": [
    {
     "name": "stdout",
     "output_type": "stream",
     "text": [
      "*** Introductory Examples for the NLTK Book ***\n",
      "Loading text1, ..., text9 and sent1, ..., sent9\n",
      "Type the name of the text or sentence to view it.\n",
      "Type: 'texts()' or 'sents()' to list the materials.\n",
      "text1: Moby Dick by Herman Melville 1851\n",
      "text2: Sense and Sensibility by Jane Austen 1811\n",
      "text3: The Book of Genesis\n",
      "text4: Inaugural Address Corpus\n",
      "text5: Chat Corpus\n",
      "text6: Monty Python and the Holy Grail\n",
      "text7: Wall Street Journal\n",
      "text8: Personals Corpus\n",
      "text9: The Man Who Was Thursday by G . K . Chesterton 1908\n"
     ]
    }
   ],
   "source": [
    "import nltk\n",
    "from nltk.book import *\n",
    "from nltk.corpus import stopwords"
   ]
  },
  {
   "cell_type": "markdown",
   "id": "4d3ae433-d9c2-4d14-8b06-495ed09444c8",
   "metadata": {},
   "source": [
    "## Recursos léxicos (lexicons)\n",
    "\n",
    "- Son collecciones de palabras o frases que tienen asociadas etiquetas o meta-información de algún tipo (POS tags, significados gramaticales, etc...)\n",
    "\n",
    "- POS (Part Of Speech), también llamado etiquetado gramatical o etiquetado de palabras por categorias, consite en etiquetar la categoria gramatical a la que pertenece cada palabra en un volumen de texto, siendo las categorías: \n",
    "\n",
    "    1. Sustantivos\n",
    "    2. Adjetivos\n",
    "    3. Artículos\n",
    "    4. Pronombres\n",
    "    5. Verbos\n",
    "    6. Adverbios\n",
    "    7. Interjecciones\n",
    "    8. Preposiciones\n",
    "    9. Conjunciones"
   ]
  },
  {
   "cell_type": "code",
   "execution_count": 7,
   "id": "e9eb3420-f4b2-4ecd-a318-144253ea0705",
   "metadata": {},
   "outputs": [
    {
     "data": {
      "text/plain": [
       "['Crew',\n",
       " 'Crish',\n",
       " 'Crockett',\n",
       " 'Cross',\n",
       " 'Crossed',\n",
       " 'Crossing',\n",
       " 'Crotch',\n",
       " 'Crowding',\n",
       " 'Crown',\n",
       " 'Crozetts']"
      ]
     },
     "execution_count": 7,
     "metadata": {},
     "output_type": "execute_result"
    }
   ],
   "source": [
    "# Vocabularios: palabras únicas en un corpus\n",
    "vocab = sorted(set(text1))\n",
    "vocab[1000:1010]"
   ]
  },
  {
   "cell_type": "markdown",
   "id": "57926e77-75d7-4c1b-976c-a69defe1a90c",
   "metadata": {},
   "source": [
    "Un vocabulario normal como este es un recurso léxico no enriquezido (no tiene descripción)."
   ]
  },
  {
   "cell_type": "code",
   "execution_count": 13,
   "id": "f313b26c-8e3d-46aa-814d-87c98425f791",
   "metadata": {},
   "outputs": [
    {
     "data": {
      "text/plain": [
       "[(',', 18713), ('the', 13721), ('.', 6862), ('of', 6536), ('and', 6024)]"
      ]
     },
     "execution_count": 13,
     "metadata": {},
     "output_type": "execute_result"
    }
   ],
   "source": [
    "# Distribuciones:\n",
    "word_freq = FreqDist(text1)\n",
    "word_freq.most_common(5)"
   ]
  },
  {
   "cell_type": "markdown",
   "id": "a05d4d6d-f384-4b5d-8fbb-13af6a2ae9ee",
   "metadata": {},
   "source": [
    "Un FreqDist es un lexicon, ya que tiene un texto con información de cuanto se repite dicho texto. "
   ]
  },
  {
   "cell_type": "code",
   "execution_count": 15,
   "id": "97b48a24-2a93-4ff5-b3c5-265012e0f2fa",
   "metadata": {},
   "outputs": [
    {
     "data": {
      "text/plain": [
       "['de',\n",
       " 'la',\n",
       " 'que',\n",
       " 'el',\n",
       " 'en',\n",
       " 'y',\n",
       " 'a',\n",
       " 'los',\n",
       " 'del',\n",
       " 'se',\n",
       " 'las',\n",
       " 'por',\n",
       " 'un',\n",
       " 'para',\n",
       " 'con']"
      ]
     },
     "execution_count": 15,
     "metadata": {},
     "output_type": "execute_result"
    }
   ],
   "source": [
    "# Stopwords. Palabras muy usadas que son filtradas de NLP (useless words)\n",
    "stopwords.words('spanish')[:15]"
   ]
  },
  {
   "cell_type": "markdown",
   "id": "fb0d1965-735e-4246-9061-1b1bf37ca3c5",
   "metadata": {},
   "source": [
    "## Fracción de Stopwords en un corpus"
   ]
  },
  {
   "cell_type": "code",
   "execution_count": 22,
   "id": "68bbcdb9-9de0-4297-b1b1-8b30cb67533c",
   "metadata": {},
   "outputs": [],
   "source": [
    "def stopwords_percentage(text):\n",
    "    stopwd = stopwords.words('english')\n",
    "    content = [word for word in text if word.lower() not in stopwd]\n",
    "    \n",
    "    return 1 - len(content)/len(text)"
   ]
  },
  {
   "cell_type": "code",
   "execution_count": 23,
   "id": "a2934885-8ca1-4801-8ad4-ff9df257bcae",
   "metadata": {},
   "outputs": [
    {
     "data": {
      "text/plain": [
       "0.4137045230600531"
      ]
     },
     "execution_count": 23,
     "metadata": {},
     "output_type": "execute_result"
    }
   ],
   "source": [
    "stopwords_percentage(text1)"
   ]
  },
  {
   "cell_type": "markdown",
   "id": "51ab9c57-6680-4035-8dc1-426a41851454",
   "metadata": {},
   "source": [
    "Esto es, el 41% de todo el libro de Movy-Dick son palabras sin mucha importancia"
   ]
  },
  {
   "cell_type": "markdown",
   "id": "f6ab7c4b-6c76-4b4b-8866-f932b28062b1",
   "metadata": {},
   "source": [
    "## Lexicons enriquecidos (listas comparativas de palabras)\n",
    "- Construyendo diccionarios para traducción de palabras en diferentes idiomas"
   ]
  },
  {
   "cell_type": "code",
   "execution_count": 24,
   "id": "2e6a2883-0f2d-4b3e-bf48-128804ede1eb",
   "metadata": {},
   "outputs": [
    {
     "name": "stdout",
     "output_type": "stream",
     "text": [
      "['be', 'bg', 'bs', 'ca', 'cs', 'cu', 'de', 'en', 'es', 'fr', 'hr', 'it', 'la', 'mk', 'nl', 'pl', 'pt', 'ro', 'ru', 'sk', 'sl', 'sr', 'sw', 'uk']\n"
     ]
    }
   ],
   "source": [
    "from nltk.corpus import swadesh\n",
    "print(swadesh.fileids())"
   ]
  },
  {
   "cell_type": "code",
   "execution_count": 27,
   "id": "ffa66460-a317-4243-862c-7402e881bbdb",
   "metadata": {},
   "outputs": [
    {
     "name": "stdout",
     "output_type": "stream",
     "text": [
      "['I', 'you (singular), thou', 'he', 'we', 'you (plural)', 'they', 'this', 'that', 'here', 'there']\n"
     ]
    }
   ],
   "source": [
    "print(swadesh.words('en')[:10])"
   ]
  },
  {
   "cell_type": "code",
   "execution_count": 32,
   "id": "6b634d7d-1bec-4fc5-ac2f-30772c552219",
   "metadata": {},
   "outputs": [
    {
     "name": "stdout",
     "output_type": "stream",
     "text": [
      "[('je', 'yo'), ('tu, vous', 'tú, usted'), ('il', 'él'), ('nous', 'nosotros'), ('vous', 'vosotros, ustedes'), ('ils, elles', 'ellos, ellas'), ('ceci', 'este'), ('cela', 'ese, aquel'), ('ici', 'aquí, acá'), ('là', 'ahí, allí, allá')]\n"
     ]
    }
   ],
   "source": [
    "esp2france = swadesh.entries(['es','fr'])\n",
    "print(france2esp[:10])"
   ]
  },
  {
   "cell_type": "code",
   "execution_count": 34,
   "id": "cd35d6f0-c723-476b-b7cc-a890341f6dd6",
   "metadata": {},
   "outputs": [
    {
     "data": {
      "text/plain": [
       "'chien'"
      ]
     },
     "execution_count": 34,
     "metadata": {},
     "output_type": "execute_result"
    }
   ],
   "source": [
    "translate = dict(esp2france)\n",
    "translate['perro']"
   ]
  },
  {
   "cell_type": "code",
   "execution_count": 35,
   "id": "76f412ec-7ae8-42f4-8110-b5d7f515cd8c",
   "metadata": {},
   "outputs": [
    {
     "data": {
      "text/plain": [
       "'jeter'"
      ]
     },
     "execution_count": 35,
     "metadata": {},
     "output_type": "execute_result"
    }
   ],
   "source": [
    "translate['tirar']"
   ]
  }
 ],
 "metadata": {
  "kernelspec": {
   "display_name": "Python 3 (ipykernel)",
   "language": "python",
   "name": "python3"
  },
  "language_info": {
   "codemirror_mode": {
    "name": "ipython",
    "version": 3
   },
   "file_extension": ".py",
   "mimetype": "text/x-python",
   "name": "python",
   "nbconvert_exporter": "python",
   "pygments_lexer": "ipython3",
   "version": "3.9.7"
  }
 },
 "nbformat": 4,
 "nbformat_minor": 5
}
