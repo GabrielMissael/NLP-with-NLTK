{
 "cells": [
  {
   "cell_type": "markdown",
   "id": "0cccc947-a39b-450e-897a-c3b6d7ae9d4f",
   "metadata": {},
   "source": [
    "## Configuración inicial"
   ]
  },
  {
   "cell_type": "code",
   "execution_count": 164,
   "id": "479756d3-83cc-4ba0-8c88-70bb2c76f023",
   "metadata": {
    "scrolled": true,
    "tags": []
   },
   "outputs": [
    {
     "name": "stderr",
     "output_type": "stream",
     "text": [
      "[nltk_data] Downloading collection 'book'\n",
      "[nltk_data]    | \n",
      "[nltk_data]    | Downloading package abc to /home/missael/nltk_data...\n",
      "[nltk_data]    |   Package abc is already up-to-date!\n",
      "[nltk_data]    | Downloading package brown to\n",
      "[nltk_data]    |     /home/missael/nltk_data...\n",
      "[nltk_data]    |   Package brown is already up-to-date!\n",
      "[nltk_data]    | Downloading package chat80 to\n",
      "[nltk_data]    |     /home/missael/nltk_data...\n",
      "[nltk_data]    |   Package chat80 is already up-to-date!\n",
      "[nltk_data]    | Downloading package cmudict to\n",
      "[nltk_data]    |     /home/missael/nltk_data...\n",
      "[nltk_data]    |   Package cmudict is already up-to-date!\n",
      "[nltk_data]    | Downloading package conll2000 to\n",
      "[nltk_data]    |     /home/missael/nltk_data...\n",
      "[nltk_data]    |   Package conll2000 is already up-to-date!\n",
      "[nltk_data]    | Downloading package conll2002 to\n",
      "[nltk_data]    |     /home/missael/nltk_data...\n",
      "[nltk_data]    |   Package conll2002 is already up-to-date!\n",
      "[nltk_data]    | Downloading package dependency_treebank to\n",
      "[nltk_data]    |     /home/missael/nltk_data...\n",
      "[nltk_data]    |   Package dependency_treebank is already up-to-date!\n",
      "[nltk_data]    | Downloading package genesis to\n",
      "[nltk_data]    |     /home/missael/nltk_data...\n",
      "[nltk_data]    |   Package genesis is already up-to-date!\n",
      "[nltk_data]    | Downloading package gutenberg to\n",
      "[nltk_data]    |     /home/missael/nltk_data...\n",
      "[nltk_data]    |   Package gutenberg is already up-to-date!\n",
      "[nltk_data]    | Downloading package ieer to\n",
      "[nltk_data]    |     /home/missael/nltk_data...\n",
      "[nltk_data]    |   Package ieer is already up-to-date!\n",
      "[nltk_data]    | Downloading package inaugural to\n",
      "[nltk_data]    |     /home/missael/nltk_data...\n",
      "[nltk_data]    |   Package inaugural is already up-to-date!\n",
      "[nltk_data]    | Downloading package movie_reviews to\n",
      "[nltk_data]    |     /home/missael/nltk_data...\n",
      "[nltk_data]    |   Package movie_reviews is already up-to-date!\n",
      "[nltk_data]    | Downloading package nps_chat to\n",
      "[nltk_data]    |     /home/missael/nltk_data...\n",
      "[nltk_data]    |   Package nps_chat is already up-to-date!\n",
      "[nltk_data]    | Downloading package names to\n",
      "[nltk_data]    |     /home/missael/nltk_data...\n",
      "[nltk_data]    |   Package names is already up-to-date!\n",
      "[nltk_data]    | Downloading package ppattach to\n",
      "[nltk_data]    |     /home/missael/nltk_data...\n",
      "[nltk_data]    |   Package ppattach is already up-to-date!\n",
      "[nltk_data]    | Downloading package reuters to\n",
      "[nltk_data]    |     /home/missael/nltk_data...\n",
      "[nltk_data]    |   Package reuters is already up-to-date!\n",
      "[nltk_data]    | Downloading package senseval to\n",
      "[nltk_data]    |     /home/missael/nltk_data...\n",
      "[nltk_data]    |   Package senseval is already up-to-date!\n",
      "[nltk_data]    | Downloading package state_union to\n",
      "[nltk_data]    |     /home/missael/nltk_data...\n",
      "[nltk_data]    |   Package state_union is already up-to-date!\n",
      "[nltk_data]    | Downloading package stopwords to\n",
      "[nltk_data]    |     /home/missael/nltk_data...\n",
      "[nltk_data]    |   Package stopwords is already up-to-date!\n",
      "[nltk_data]    | Downloading package swadesh to\n",
      "[nltk_data]    |     /home/missael/nltk_data...\n",
      "[nltk_data]    |   Package swadesh is already up-to-date!\n",
      "[nltk_data]    | Downloading package timit to\n",
      "[nltk_data]    |     /home/missael/nltk_data...\n",
      "[nltk_data]    |   Package timit is already up-to-date!\n",
      "[nltk_data]    | Downloading package treebank to\n",
      "[nltk_data]    |     /home/missael/nltk_data...\n",
      "[nltk_data]    |   Package treebank is already up-to-date!\n",
      "[nltk_data]    | Downloading package toolbox to\n",
      "[nltk_data]    |     /home/missael/nltk_data...\n",
      "[nltk_data]    |   Package toolbox is already up-to-date!\n",
      "[nltk_data]    | Downloading package udhr to\n",
      "[nltk_data]    |     /home/missael/nltk_data...\n",
      "[nltk_data]    |   Package udhr is already up-to-date!\n",
      "[nltk_data]    | Downloading package udhr2 to\n",
      "[nltk_data]    |     /home/missael/nltk_data...\n",
      "[nltk_data]    |   Package udhr2 is already up-to-date!\n",
      "[nltk_data]    | Downloading package unicode_samples to\n",
      "[nltk_data]    |     /home/missael/nltk_data...\n",
      "[nltk_data]    |   Package unicode_samples is already up-to-date!\n",
      "[nltk_data]    | Downloading package webtext to\n",
      "[nltk_data]    |     /home/missael/nltk_data...\n",
      "[nltk_data]    |   Package webtext is already up-to-date!\n",
      "[nltk_data]    | Downloading package wordnet to\n",
      "[nltk_data]    |     /home/missael/nltk_data...\n",
      "[nltk_data]    |   Package wordnet is already up-to-date!\n",
      "[nltk_data]    | Downloading package wordnet_ic to\n",
      "[nltk_data]    |     /home/missael/nltk_data...\n",
      "[nltk_data]    |   Package wordnet_ic is already up-to-date!\n",
      "[nltk_data]    | Downloading package words to\n",
      "[nltk_data]    |     /home/missael/nltk_data...\n",
      "[nltk_data]    |   Package words is already up-to-date!\n",
      "[nltk_data]    | Downloading package maxent_treebank_pos_tagger to\n",
      "[nltk_data]    |     /home/missael/nltk_data...\n",
      "[nltk_data]    |   Package maxent_treebank_pos_tagger is already up-\n",
      "[nltk_data]    |       to-date!\n",
      "[nltk_data]    | Downloading package maxent_ne_chunker to\n",
      "[nltk_data]    |     /home/missael/nltk_data...\n",
      "[nltk_data]    |   Package maxent_ne_chunker is already up-to-date!\n",
      "[nltk_data]    | Downloading package universal_tagset to\n",
      "[nltk_data]    |     /home/missael/nltk_data...\n",
      "[nltk_data]    |   Package universal_tagset is already up-to-date!\n",
      "[nltk_data]    | Downloading package punkt to\n",
      "[nltk_data]    |     /home/missael/nltk_data...\n",
      "[nltk_data]    |   Package punkt is already up-to-date!\n",
      "[nltk_data]    | Downloading package book_grammars to\n",
      "[nltk_data]    |     /home/missael/nltk_data...\n",
      "[nltk_data]    |   Package book_grammars is already up-to-date!\n",
      "[nltk_data]    | Downloading package city_database to\n",
      "[nltk_data]    |     /home/missael/nltk_data...\n",
      "[nltk_data]    |   Package city_database is already up-to-date!\n",
      "[nltk_data]    | Downloading package tagsets to\n",
      "[nltk_data]    |     /home/missael/nltk_data...\n",
      "[nltk_data]    |   Package tagsets is already up-to-date!\n",
      "[nltk_data]    | Downloading package panlex_swadesh to\n",
      "[nltk_data]    |     /home/missael/nltk_data...\n",
      "[nltk_data]    |   Package panlex_swadesh is already up-to-date!\n",
      "[nltk_data]    | Downloading package averaged_perceptron_tagger to\n",
      "[nltk_data]    |     /home/missael/nltk_data...\n",
      "[nltk_data]    |   Package averaged_perceptron_tagger is already up-\n",
      "[nltk_data]    |       to-date!\n",
      "[nltk_data]    | \n",
      "[nltk_data]  Done downloading collection book\n"
     ]
    }
   ],
   "source": [
    "# Importamos la librería\n",
    "import nltk\n",
    "\n",
    "# Dataset con muchos libros en ingles ya tokenizados\n",
    "nltk.download('book')\n",
    "\n",
    "# Importamos los libros\n",
    "from nltk.book import *\n",
    "\n",
    "# Importamos librerías utiles\n",
    "import matplotlib.pyplot as plt\n",
    "import numpy as np\n",
    "\n",
    "import matplotlib as mpl\n",
    "mpl.rcParams['figure.dpi']= 100"
   ]
  },
  {
   "cell_type": "markdown",
   "id": "9fbd189a-438e-410a-a7cf-83091dbf89ca",
   "metadata": {},
   "source": [
    "## Analizando un texto"
   ]
  },
  {
   "cell_type": "code",
   "execution_count": 80,
   "id": "70ff1d4e-052a-47c6-ae17-9ab010ad3b27",
   "metadata": {},
   "outputs": [
    {
     "name": "stdout",
     "output_type": "stream",
     "text": [
      "<Text: Moby Dick by Herman Melville 1851>\n",
      "['[', 'Moby', 'Dick', 'by', 'Herman', 'Melville', '1851', ']', 'ETYMOLOGY', '.', '(', 'Supplied', 'by', 'a', 'Late']\n",
      "260819\n"
     ]
    }
   ],
   "source": [
    "# Usaremos este libro\n",
    "print(text1)\n",
    "\n",
    "# Veamos los toknes\n",
    "print(text1.tokens[:15])\n",
    "\n",
    "# Número de tokens\n",
    "print(len(text1))"
   ]
  },
  {
   "cell_type": "markdown",
   "id": "43654c07-3d27-4b36-b728-12632f2d5f42",
   "metadata": {},
   "source": [
    "## Medidad de riqueza léxica de un texto\n",
    "\n",
    "$$R_l = \\frac{\\text{total de palabras únicas}}{\\text{total de palabras}}$$"
   ]
  },
  {
   "cell_type": "code",
   "execution_count": 81,
   "id": "06f4fb15-6c5c-46a5-b6d4-7958d1e047f9",
   "metadata": {},
   "outputs": [
    {
     "name": "stdout",
     "output_type": "stream",
     "text": [
      "['Crew', 'Crish', 'Crockett', 'Cross', 'Crossed', 'Crossing', 'Crotch', 'Crowding', 'Crown', 'Crozetts']\n",
      "Riqueza léxica = 0.07406285585022564\n"
     ]
    }
   ],
   "source": [
    "# Obtenemos el conjunto de palabras únicas ordenadas\n",
    "vocabulario = sorted(set(text1))\n",
    "print(vocabulario[1000:1010])\n",
    "\n",
    "# Obtenemos la riqueza léxica\n",
    "R_l = len(vocabulario)/len(text1)\n",
    "print(f'Riqueza léxica = {R_l}')"
   ]
  },
  {
   "cell_type": "code",
   "execution_count": 82,
   "id": "bb3b1900-5c9b-4c5e-a823-c4bbe215d9d2",
   "metadata": {},
   "outputs": [
    {
     "data": {
      "text/plain": [
       "0.06230453042623537"
      ]
     },
     "execution_count": 82,
     "metadata": {},
     "output_type": "execute_result"
    }
   ],
   "source": [
    "def riqueza_lexica(text):\n",
    "    return len(set(text))/len(text)\n",
    "\n",
    "riqueza_lexica(text3)"
   ]
  },
  {
   "cell_type": "code",
   "execution_count": 83,
   "id": "93660144-dcd6-4fca-86f7-f4197d295289",
   "metadata": {},
   "outputs": [
    {
     "name": "stdout",
     "output_type": "stream",
     "text": [
      "49 0.018786974875296663\n"
     ]
    }
   ],
   "source": [
    "def porcentaje_palabra(palabra, texto):\n",
    "    return 100*texto.count(palabra)/len(texto)\n",
    "\n",
    "print(text1.count('monster'), porcentaje_palabra('monster', text1))"
   ]
  },
  {
   "cell_type": "markdown",
   "id": "3f72c8fb-89ae-46ac-9a92-e0fdbb9c4621",
   "metadata": {},
   "source": [
    "## Estadísticas del lenguaje\n",
    "\n",
    "Los cálculos estadísticos más simples que se pueden efectuar sobre un texto o un corpus son los relacionados con frecuencia de aparición de palabras:\n",
    "- Podemos construir un diccionario en Python donde las llaves sean las palabras y los valores sean las frecuencias de ocurrencias de esas palabras. \n",
    "- ejemplo `dic = {'monster': 49, 'boat': 54, ...}`"
   ]
  },
  {
   "cell_type": "code",
   "execution_count": 84,
   "id": "14ffce27-9ab9-434f-ae8b-f8295c648493",
   "metadata": {},
   "outputs": [],
   "source": [
    "dic = {}\n",
    "\n",
    "for word in vocabulario:\n",
    "    dic[word] = text1.count(word)"
   ]
  },
  {
   "cell_type": "markdown",
   "id": "b91b8e4d-0e05-489c-b465-c21afa50e93f",
   "metadata": {},
   "source": [
    "Este ciclo for anterior es computacionalmente muy costoso, incluso para corpus muy pequeños. NLTK ya tiene una función para esto que es muy rápido:"
   ]
  },
  {
   "cell_type": "code",
   "execution_count": 86,
   "id": "009f4758-df30-4819-956d-e8dbcf1dea19",
   "metadata": {},
   "outputs": [
    {
     "data": {
      "text/plain": [
       "[(',', 18713),\n",
       " ('the', 13721),\n",
       " ('.', 6862),\n",
       " ('of', 6536),\n",
       " ('and', 6024),\n",
       " ('a', 4569),\n",
       " ('to', 4542),\n",
       " (';', 4072),\n",
       " ('in', 3916),\n",
       " ('that', 2982),\n",
       " (\"'\", 2684),\n",
       " ('-', 2552),\n",
       " ('his', 2459),\n",
       " ('it', 2209),\n",
       " ('I', 2124),\n",
       " ('s', 1739),\n",
       " ('is', 1695),\n",
       " ('he', 1661),\n",
       " ('with', 1659),\n",
       " ('was', 1632)]"
      ]
     },
     "execution_count": 86,
     "metadata": {},
     "output_type": "execute_result"
    }
   ],
   "source": [
    "# Obtenemos la frecuencia de distribución\n",
    "fdist = FreqDist(text1)\n",
    "\n",
    "# Veamos las más repetidas\n",
    "fdist.most_common(20)"
   ]
  },
  {
   "cell_type": "markdown",
   "id": "8f797306-5d12-4984-9541-afbce4d6c516",
   "metadata": {},
   "source": [
    "Las palabras más repetidas no nos aportan necesariamente más información del texto que queremos analizar. La mayoria de las que se repiten más solo están ahí por las reglas del lenguaje."
   ]
  },
  {
   "cell_type": "code",
   "execution_count": 96,
   "id": "d5635b68-0c94-4aef-b469-755f11d99f36",
   "metadata": {},
   "outputs": [
    {
     "data": {
      "image/png": "[encoded data removed]",
      "text/plain": [
       "<Figure size 600x400 with 1 Axes>"
      ]
     },
     "metadata": {
      "needs_background": "light"
     },
     "output_type": "display_data"
    },
    {
     "data": {
      "text/plain": [
       "<AxesSubplot:xlabel='Samples', ylabel='Counts'>"
      ]
     },
     "execution_count": 96,
     "metadata": {},
     "output_type": "execute_result"
    }
   ],
   "source": [
    "# Podemos graficar las palabras\n",
    "fdist.plot(30)"
   ]
  },
  {
   "cell_type": "code",
   "execution_count": 97,
   "id": "a4b528db-0947-4808-ace3-60bffce0d6fb",
   "metadata": {},
   "outputs": [
    {
     "data": {
      "text/plain": [
       "49"
      ]
     },
     "execution_count": 97,
     "metadata": {},
     "output_type": "execute_result"
    }
   ],
   "source": [
    "# Podemos obtener también el número de aparición de una palabra\n",
    "fdist['monster']"
   ]
  },
  {
   "cell_type": "markdown",
   "id": "30927524-295b-4272-8793-73f05a5728a4",
   "metadata": {},
   "source": [
    "La distribución de palabras sigue una distribución de potencias 🤯. De echo si graficamos en el eje $x$ el word rank y en el eje $y$ el conteo, debemos observar una línea recta a $-45^o$. Podemos hacer esto:"
   ]
  },
  {
   "cell_type": "code",
   "execution_count": 165,
   "id": "1cb11d57-c02e-4625-aec4-8839aa950f9a",
   "metadata": {},
   "outputs": [
    {
     "data": {
      "image/png": "[encoded data removed]",
      "text/plain": [
       "<Figure size 480x225 with 1 Axes>"
      ]
     },
     "metadata": {
      "needs_background": "light"
     },
     "output_type": "display_data"
    }
   ],
   "source": [
    "# Obtenemos todo el conteo\n",
    "count = fdist.most_common()\n",
    "\n",
    "# Obtenemos solo el conteo\n",
    "count = np.array(count).T[1].T\n",
    "\n",
    "# Pasamos a números\n",
    "count = count.astype('float')\n",
    "x = [i for i in range(len(count))]\n",
    "\n",
    "plt.figure(figsize=(4.8, 2.25))\n",
    "plt.yscale('log')\n",
    "plt.xscale('log')\n",
    "plt.plot(x, count)\n",
    "plt.xlabel('$log(Rank)$')\n",
    "plt.ylabel('$log(Count)$')\n",
    "plt.title('Moby Dick word count - Power law.')\n",
    "\n",
    "plt.grid()\n",
    "plt.show()"
   ]
  },
  {
   "cell_type": "markdown",
   "id": "648dbc47-2087-4797-967b-1a560c812fca",
   "metadata": {},
   "source": [
    "## Distribuciones sobre contenido con filtro fino\n",
    "\n",
    "- Como vimos en la sección anterior, los tokens más repetidos en un texto no son necesariamente las palabras que más información nos arrojan sobre el contenido del mismo. \n",
    "- Por ello, es mejor filtrar y construir distribuciones de frecuencia que no consideran signos de puntuación o caracteres especiales"
   ]
  },
  {
   "cell_type": "code",
   "execution_count": 104,
   "id": "5c55a1bf-cf6e-46b2-aaeb-5c9acb29b846",
   "metadata": {},
   "outputs": [
    {
     "data": {
      "text/plain": [
       "['ACCOUNT',\n",
       " 'ADDITIONAL',\n",
       " 'ADVANCING',\n",
       " 'ADVENTURES',\n",
       " 'AFFGHANISTAN',\n",
       " 'AFRICA',\n",
       " 'AGAINST',\n",
       " 'ALFRED',\n",
       " 'ALGERINE',\n",
       " 'AMERICA']"
      ]
     },
     "execution_count": 104,
     "metadata": {},
     "output_type": "execute_result"
    }
   ],
   "source": [
    "# Una primera aproximación, es quedarnos con palabras grandes\n",
    "long_words = [word for word in text1 if len(word)>5]\n",
    "\n",
    "# Creamos el nuevo vocabulario\n",
    "vocabulario_filtrado = sorted(set(long_words))\n",
    "vocabulario_filtrado[0:10]"
   ]
  },
  {
   "cell_type": "markdown",
   "id": "27a9c0ef-86e1-435c-87cf-a3db46619c9e",
   "metadata": {},
   "source": [
    "Si hicieramos un análisis de tweets al rededor de una marca o persona, no nos interesan los conectores ni los signos, solo los adjetivos y verbos que se mencionana a la par (por eso esto podría ser útil). Ahora creamos ahora una nueva disribución con las palabras filtradas basados en los conteos ya pre-calculados de la función `FreqDist`, para esto: \n",
    "\n",
    "```python\n",
    "fdist_filtrado = [('account', 2), ('additional': 32), ...]\n",
    "```\n",
    "Luego, podemos convertir el objeto creado a formato de `np.array` de Numpy para poder hacer un sort por palabras más frecuentes:\n",
    "```python\n",
    "fdist_filtrado = np.array(fdist_filtrado, *args)\n",
    "```\n",
    "Lo hacemos 👀:"
   ]
  },
  {
   "cell_type": "code",
   "execution_count": 112,
   "id": "5b43b3b1-6555-4592-9813-240896ff90c3",
   "metadata": {},
   "outputs": [
    {
     "data": {
      "text/plain": [
       "array([(b'anywhere', 14), (b'continued', 14), (b'deadly', 22),\n",
       "       (b'rolling', 35), (b'received', 26), (b'narrow', 12),\n",
       "       (b'island', 27), (b'breaking', 16), (b'passage', 32),\n",
       "       (b'instantly', 17), (b'returned', 14), (b'precious', 18),\n",
       "       (b'sailed', 38), (b'suspended', 27), (b'commotion', 11)],\n",
       "      dtype=[('word', 'S10'), ('frequency', '<i8')])"
      ]
     },
     "execution_count": 112,
     "metadata": {},
     "output_type": "execute_result"
    }
   ],
   "source": [
    "# Filtramos \n",
    "palabras_interestantes = [(palabra, fdist[palabra]) for palabra in set(text1) if len(palabra)>5 and fdist[palabra]>10]\n",
    "\n",
    "# Creamos un dtype específicando que tenemos en nuestra lista\n",
    "dtypes = [('word', 'S10'), ('frequency', int)]\n",
    "palabras_interestantes = np.array(palabras_interestantes, dtype = dtypes)\n",
    "\n",
    "\n",
    "palabras_interestantes[:15]"
   ]
  },
  {
   "cell_type": "code",
   "execution_count": 129,
   "id": "417ada9b-2828-43ff-ab83-133fc3497423",
   "metadata": {},
   "outputs": [
    {
     "data": {
      "text/plain": [
       "array([(b'though', 335), (b'before', 293), (b'seemed', 283),\n",
       "       (b'Queequeg', 252), (b'little', 247), (b'whales', 237),\n",
       "       (b'through', 227), (b'Captain', 215), (b'himself', 203)],\n",
       "      dtype=[('word', 'S10'), ('frequency', '<i8')])"
      ]
     },
     "execution_count": 129,
     "metadata": {},
     "output_type": "execute_result"
    }
   ],
   "source": [
    "palabras_interesantes = np.sort(palabras_interestantes, order = 'frequency', )\n",
    "palabras_interesantes[:-10:-1]"
   ]
  },
  {
   "cell_type": "code",
   "execution_count": 140,
   "id": "b34ff3f6-615f-45ca-a1fa-69a2863073e8",
   "metadata": {},
   "outputs": [
    {
     "data": {
      "image/png": "[encoded data removed]",
      "text/plain": [
       "<Figure size 600x400 with 1 Axes>"
      ]
     },
     "metadata": {
      "needs_background": "light"
     },
     "output_type": "display_data"
    }
   ],
   "source": [
    "top_words = 15\n",
    "\n",
    "words = palabras_interesantes[-top_words:]\n",
    "y = [word[1] for word in words]\n",
    "x = np.arange(len(y))\n",
    "x_ticks = [word[0] for word in words]\n",
    "\n",
    "#plt.figure(figsize=(10, 5))\n",
    "plt.xticks(x, x_ticks, rotation = 'vertical')\n",
    "plt.plot(x, y)\n",
    "plt.grid()\n",
    "plt.show()"
   ]
  },
  {
   "cell_type": "code",
   "execution_count": 146,
   "id": "ecaea2d2-cfe1-44f9-980f-6fcc64aac2f8",
   "metadata": {},
   "outputs": [
    {
     "data": {
      "image/png": "[encoded data removed]",
      "text/plain": [
       "<Figure size 600x400 with 1 Axes>"
      ]
     },
     "metadata": {
      "needs_background": "light"
     },
     "output_type": "display_data"
    }
   ],
   "source": [
    "# Filtramos \n",
    "palabras_interestantes = [(palabra, fdist[palabra]) for palabra in set(text1) if len(palabra)>2 and fdist[palabra]>10]\n",
    "\n",
    "# Creamos un dtype específicando que tenemos en nuestra lista\n",
    "dtypes = [('word', 'S10'), ('frequency', int)]\n",
    "palabras_interestantes = np.array(palabras_interestantes, dtype = dtypes)\n",
    "\n",
    "# Ordenamos\n",
    "palabras_interesantes = np.sort(palabras_interestantes, order = 'frequency', )\n",
    "\n",
    "# Creamos gráfica\n",
    "words = palabras_interesantes[::-1]\n",
    "y = [word[1] for word in words]\n",
    "x = np.arange(len(y))\n",
    "\n",
    "plt.yscale('log')\n",
    "plt.xscale('log')\n",
    "plt.plot(x, y)\n",
    "plt.xlabel('$log(Rank)$')\n",
    "plt.ylabel('$log(Count)$')\n",
    "plt.title('Moby Dick word count - Power law.')\n",
    "\n",
    "plt.grid()\n",
    "plt.show()"
   ]
  },
  {
   "cell_type": "markdown",
   "id": "90d388fc-63e7-4661-a5f5-aeefb16fe66e",
   "metadata": {},
   "source": [
    "Podemos consultar todas las stopwords (palabras no interesantes) con NLTK:"
   ]
  },
  {
   "cell_type": "code",
   "execution_count": 157,
   "id": "51afd1c8-0fa7-4305-96cf-38019510e328",
   "metadata": {},
   "outputs": [
    {
     "name": "stdout",
     "output_type": "stream",
     "text": [
      "['i', 'me', 'my', 'myself', 'we', 'our', 'ours', 'ourselves', 'you', \"you're\", \"you've\", \"you'll\", \"you'd\", 'your', 'yours', 'yourself', 'yourselves', 'he', 'him', 'his', 'himself', 'she', \"she's\", 'her', 'hers', 'herself', 'it', \"it's\", 'its', 'itself', 'they', 'them', 'their', 'theirs', 'themselves', 'what', 'which', 'who', 'whom', 'this', 'that', \"that'll\", 'these', 'those', 'am', 'is', 'are', 'was', 'were', 'be', 'been', 'being', 'have', 'has', 'had', 'having', 'do', 'does', 'did', 'doing', 'a', 'an', 'the', 'and', 'but', 'if', 'or', 'because', 'as', 'until', 'while', 'of', 'at', 'by', 'for', 'with', 'about', 'against', 'between', 'into', 'through', 'during', 'before', 'after', 'above', 'below', 'to', 'from', 'up', 'down', 'in', 'out', 'on', 'off', 'over', 'under', 'again', 'further', 'then', 'once', 'here', 'there', 'when', 'where', 'why', 'how', 'all', 'any', 'both', 'each', 'few', 'more', 'most', 'other', 'some', 'such', 'no', 'nor', 'not', 'only', 'own', 'same', 'so', 'than', 'too', 'very', 's', 't', 'can', 'will', 'just', 'don', \"don't\", 'should', \"should've\", 'now', 'd', 'll', 'm', 'o', 're', 've', 'y', 'ain', 'aren', \"aren't\", 'couldn', \"couldn't\", 'didn', \"didn't\", 'doesn', \"doesn't\", 'hadn', \"hadn't\", 'hasn', \"hasn't\", 'haven', \"haven't\", 'isn', \"isn't\", 'ma', 'mightn', \"mightn't\", 'mustn', \"mustn't\", 'needn', \"needn't\", 'shan', \"shan't\", 'shouldn', \"shouldn't\", 'wasn', \"wasn't\", 'weren', \"weren't\", 'won', \"won't\", 'wouldn', \"wouldn't\"]\n"
     ]
    }
   ],
   "source": [
    "from nltk.corpus import stopwords\n",
    "print(stopwords.words('english'))"
   ]
  },
  {
   "cell_type": "code",
   "execution_count": null,
   "id": "e5dca340-14a2-460c-8ba1-ebd01cafce58",
   "metadata": {},
   "outputs": [],
   "source": []
  }
 ],
 "metadata": {
  "kernelspec": {
   "display_name": "Python 3 (ipykernel)",
   "language": "python",
   "name": "python3"
  },
  "language_info": {
   "codemirror_mode": {
    "name": "ipython",
    "version": 3
   },
   "file_extension": ".py",
   "mimetype": "text/x-python",
   "name": "python",
   "nbconvert_exporter": "python",
   "pygments_lexer": "ipython3",
   "version": "3.9.7"
  }
 },
 "nbformat": 4,
 "nbformat_minor": 5
}
