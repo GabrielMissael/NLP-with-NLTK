{
 "cells": [
  {
   "cell_type": "markdown",
   "id": "210413f1-d386-4f68-b8ba-912ef58ba288",
   "metadata": {},
   "source": [
    "## Processing raw text"
   ]
  },
  {
   "cell_type": "code",
   "execution_count": 2,
   "id": "700eb43f-856f-4c8b-8f16-5e1755eb37cc",
   "metadata": {},
   "outputs": [],
   "source": [
    "import nltk\n",
    "# nltk.download('punkt')\n",
    "# nltk.download('stopwords')\n",
    "\n",
    "from nltk import word_tokenize\n",
    "from urllib import request"
   ]
  },
  {
   "cell_type": "code",
   "execution_count": 3,
   "id": "3b8f7e4f-b396-4e97-b2c9-dfc3b478bb3d",
   "metadata": {},
   "outputs": [],
   "source": [
    "url = 'https://www.gutenberg.org/files/2554/2554-0.txt'\n",
    "response = request.urlopen(url)\n",
    "raw = response.read().decode('utf')"
   ]
  },
  {
   "cell_type": "code",
   "execution_count": 6,
   "id": "6dd11580-832d-460f-8d5d-71085799f770",
   "metadata": {
    "scrolled": true,
    "tags": []
   },
   "outputs": [
    {
     "data": {
      "text/plain": [
       "1176812"
      ]
     },
     "execution_count": 6,
     "metadata": {},
     "output_type": "execute_result"
    }
   ],
   "source": [
    "len(raw)"
   ]
  },
  {
   "cell_type": "code",
   "execution_count": 14,
   "id": "78d85243-861d-4eb3-8a2a-ec3ae0b120c0",
   "metadata": {},
   "outputs": [
    {
     "data": {
      "text/plain": [
       "['\\ufeffThe',\n",
       " 'Project',\n",
       " 'Gutenberg',\n",
       " 'eBook',\n",
       " 'of',\n",
       " 'Crime',\n",
       " 'and',\n",
       " 'Punishment',\n",
       " ',',\n",
       " 'by',\n",
       " 'Fyodor',\n",
       " 'Dostoevsky',\n",
       " 'This',\n",
       " 'eBook',\n",
       " 'is',\n",
       " 'for',\n",
       " 'the',\n",
       " 'use',\n",
       " 'of',\n",
       " 'anyone']"
      ]
     },
     "execution_count": 14,
     "metadata": {},
     "output_type": "execute_result"
    }
   ],
   "source": [
    "tokens = word_tokenize(raw)\n",
    "tokens[:20]"
   ]
  },
  {
   "cell_type": "code",
   "execution_count": 15,
   "id": "167be5cf-14af-414f-afbe-6626a3b2061d",
   "metadata": {},
   "outputs": [
    {
     "name": "stdout",
     "output_type": "stream",
     "text": [
      "Katerina Ivanovna; Pyotr Petrovitch; Pulcheria Alexandrovna; Avdotya\n",
      "Romanovna; Rodion Romanovitch; Marfa Petrovna; Sofya Semyonovna; old\n",
      "woman; Project Gutenberg-tm; Porfiry Petrovitch; Amalia Ivanovna;\n",
      "great deal; young man; Nikodim Fomitch; Project Gutenberg; Ilya\n",
      "Petrovitch; Andrey Semyonovitch; Hay Market; Dmitri Prokofitch; Good\n",
      "heavens\n"
     ]
    }
   ],
   "source": [
    "text = nltk.Text(tokens)\n",
    "text.collocations()"
   ]
  },
  {
   "cell_type": "markdown",
   "id": "f12f8c46-9582-495d-8496-1a38bb166d0e",
   "metadata": {},
   "source": [
    "## Procesar HTML"
   ]
  },
  {
   "cell_type": "code",
   "execution_count": 18,
   "id": "1c4b4334-37f1-4f9c-9d97-29f18f8330ac",
   "metadata": {},
   "outputs": [],
   "source": [
    "import requests\n",
    "from bs4 import BeautifulSoup\n",
    "import re\n",
    "from nltk.tokenize import RegexpTokenizer\n",
    "\n",
    "url = 'https://www.gutenberg.org/files/2701/2701-h/2701-h.htm'"
   ]
  },
  {
   "cell_type": "code",
   "execution_count": 27,
   "id": "26cb3b66-538b-47e1-800e-7136ec50da75",
   "metadata": {},
   "outputs": [
    {
     "data": {
      "text/plain": [
       "'<!DOCTYPE html PUBLIC \"-//W3C//DTD XHTML 1.0 Strict//EN\"\\r\\n\"http://www.w3.org/TR/xhtml1/DTD/xhtml1-strict.dtd\">\\r\\n<html xmlns=\"http://www.w3.org/1999/xhtml\" xml:lang=\"en\" lang=\"en\">\\r\\n<head>\\r\\n<meta http-equiv=\"Content-Type\" content=\"text/html;charset=utf-8\" />\\r\\n<meta http-equiv=\"Content-Style-Type\" content=\"text/css\" />\\r\\n<title>The Project Gutenberg eBook of Moby Dick; Or the Whale, by Herman Melville</title>\\r\\n\\r\\n<style type=\"text/css\" xml:space=\"preserve\">\\r\\n\\r\\n    body {margin-left:15%; margin-right:15%; text-align:justify }\\r\\n    p { text-indent: 1em; margin-top: .25em; margin-bottom: .25em; }\\r\\n    H1,H2,H3,H4,H5,H6 { text-align: center; margin-left: 15%; margin-right: 15%; }\\r\\n    hr  { width: 50%; text-align: center;}\\r\\n    blockquote {font-size: 100%; margin-left: 0%; margin-right: 0%;}\\r\\n    .mynote    {background-color: #DDE; color: #000; padding: .5em; margin-left: 10%; margin-right: 10%; font-family: sans-serif; font-size: 95%;}\\r\\n    .toc       { margin-left: 10%; margin-bottom: .75em;'"
      ]
     },
     "execution_count": 27,
     "metadata": {},
     "output_type": "execute_result"
    }
   ],
   "source": [
    "r = requests.get(url)\n",
    "html = r.text\n",
    "html[:1000]"
   ]
  },
  {
   "cell_type": "code",
   "execution_count": 29,
   "id": "8c0621d9-12c2-4a2f-ae4d-e1ca21f2441b",
   "metadata": {},
   "outputs": [],
   "source": [
    "soup = BeautifulSoup(html, 'html.parser')\n",
    "text = soup.get_text()\n",
    "\n",
    "# Para trabajar HTML, debemos usar regular expressions para limpar\n",
    "tokens = re.findall('\\w+', text)"
   ]
  },
  {
   "cell_type": "code",
   "execution_count": 31,
   "id": "e90dea28-07bd-468c-b31a-b07ae872313d",
   "metadata": {},
   "outputs": [
    {
     "data": {
      "text/plain": [
       "['The',\n",
       " 'Project',\n",
       " 'Gutenberg',\n",
       " 'eBook',\n",
       " 'of',\n",
       " 'Moby',\n",
       " 'Dick',\n",
       " 'Or',\n",
       " 'the',\n",
       " 'Whale']"
      ]
     },
     "execution_count": 31,
     "metadata": {},
     "output_type": "execute_result"
    }
   ],
   "source": [
    "tokens[:10]"
   ]
  },
  {
   "cell_type": "markdown",
   "id": "fe51bdb0-3374-4942-a5d8-f762949f5d7a",
   "metadata": {},
   "source": [
    "## Construyendo códgo estructurad (con funciones)\n",
    "\n",
    "### Ejemplo 1"
   ]
  },
  {
   "cell_type": "code",
   "execution_count": 33,
   "id": "023f6da7-4532-4b3d-8b5d-9f8785c3f812",
   "metadata": {},
   "outputs": [],
   "source": [
    "import re\n",
    "def get_text(file):\n",
    "    with open(file) as f:\n",
    "        text = f.read()\n",
    "    \n",
    "    text = re.sub(r'<.*?>', ' ', text)\n",
    "    text = re.sub(r'\\s+', ' ', text)\n",
    "    return text"
   ]
  },
  {
   "cell_type": "code",
   "execution_count": 34,
   "id": "2a4ca6f2-e3b9-47dc-90b7-3e92bbca12b8",
   "metadata": {},
   "outputs": [],
   "source": [
    "text = get_text('book.txt')"
   ]
  },
  {
   "cell_type": "code",
   "execution_count": 37,
   "id": "fbbe405d-248c-4448-9a26-c08432ee8726",
   "metadata": {},
   "outputs": [
    {
     "data": {
      "text/plain": [
       "'\\ufeffThe Project Gutenberg EBook of Crime and Punishment, by Fyodor Dostoevsky This eBook is for the use of anyone anywhere at no cost and with almost no restrictions whatsoever. You may copy it, give it away or re-use it under the terms of the Project Gutenberg License included with this eBook or online at www.gutenberg.org Title: Crime and Punishment Author: Fyodor Dostoevsky Release Date: March 28, 2006 [EBook #2554] Last Updated: October 27, 2016 Language: English Character set encoding: UTF-8 *'"
      ]
     },
     "execution_count": 37,
     "metadata": {},
     "output_type": "execute_result"
    }
   ],
   "source": [
    "text[:500]"
   ]
  },
  {
   "cell_type": "code",
   "execution_count": null,
   "id": "e1244f5a-8dfc-457b-b91e-6f9e15e5eb50",
   "metadata": {},
   "outputs": [],
   "source": []
  }
 ],
 "metadata": {
  "kernelspec": {
   "display_name": "Python 3 (ipykernel)",
   "language": "python",
   "name": "python3"
  },
  "language_info": {
   "codemirror_mode": {
    "name": "ipython",
    "version": 3
   },
   "file_extension": ".py",
   "mimetype": "text/x-python",
   "name": "python",
   "nbconvert_exporter": "python",
   "pygments_lexer": "ipython3",
   "version": "3.9.7"
  }
 },
 "nbformat": 4,
 "nbformat_minor": 5
}
