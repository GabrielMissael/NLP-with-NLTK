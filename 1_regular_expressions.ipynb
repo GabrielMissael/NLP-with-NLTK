{
 "cells": [
  {
   "cell_type": "markdown",
   "source": [
    "# Introducción a NLTK"
   ],
   "metadata": {}
  },
  {
   "cell_type": "code",
   "execution_count": 1,
   "source": [
    "# Cargamos librería\n",
    "import nltk\n",
    "\n",
    "# Descargamos dataset\n",
    "nltk.download('cess_esp')"
   ],
   "outputs": [
    {
     "output_type": "stream",
     "name": "stderr",
     "text": [
      "[nltk_data] Downloading package cess_esp to /home/missael/nltk_data...\n",
      "[nltk_data]   Unzipping corpora/cess_esp.zip.\n"
     ]
    },
    {
     "output_type": "execute_result",
     "data": {
      "text/plain": [
       "True"
      ]
     },
     "metadata": {},
     "execution_count": 1
    }
   ],
   "metadata": {}
  },
  {
   "cell_type": "markdown",
   "source": [
    "En este caso, descargamos _cess esp_, que es un corpus en español con titulares de noticias 👀.\n",
    "## Expresiones regulares\n",
    "\n",
    "Primero analizaremos los datos usando **expresiones regulares**."
   ],
   "metadata": {}
  },
  {
   "cell_type": "code",
   "execution_count": 4,
   "source": [
    "# Libreria para regular expressions\n",
    "import re\n",
    "\n",
    "# Cargamos el corpus\n",
    "corpus = nltk.corpus.cess_esp.sents()\n",
    "print(corpus[0])\n",
    "print(len(corpus))"
   ],
   "outputs": [
    {
     "output_type": "stream",
     "name": "stdout",
     "text": [
      "['El', 'grupo', 'estatal', 'Electricité_de_France', '-Fpa-', 'EDF', '-Fpt-', 'anunció', 'hoy', ',', 'jueves', ',', 'la', 'compra', 'del', '51_por_ciento', 'de', 'la', 'empresa', 'mexicana', 'Electricidad_Águila_de_Altamira', '-Fpa-', 'EAA', '-Fpt-', ',', 'creada', 'por', 'el', 'japonés', 'Mitsubishi_Corporation', 'para', 'poner_en_marcha', 'una', 'central', 'de', 'gas', 'de', '495', 'megavatios', '.']\n",
      "6030\n"
     ]
    }
   ],
   "metadata": {}
  },
  {
   "cell_type": "markdown",
   "source": [
    "Podemos ver un ejemplo de titular y vemos que tenemos $6030$ titulares, además de que ya está tokenizado todo. Ahora vamos a hacer _flatten_ a los datos, es decir, en lugar de tener una lista de listas, vamos a pasar todos los tokens en una sola lista. "
   ],
   "metadata": {}
  },
  {
   "cell_type": "code",
   "execution_count": 5,
   "source": [
    "flatten = [word for list in corpus for word in list]\n",
    "print(len(flatten))"
   ],
   "outputs": [
    {
     "output_type": "stream",
     "name": "stdout",
     "text": [
      "192686\n"
     ]
    }
   ],
   "metadata": {}
  },
  {
   "cell_type": "markdown",
   "source": [
    "¡Tenemos muchísimas palabras!🤯"
   ],
   "metadata": {}
  },
  {
   "cell_type": "markdown",
   "source": [],
   "metadata": {}
  }
 ],
 "metadata": {
  "orig_nbformat": 4,
  "language_info": {
   "name": "python",
   "version": "3.9.7",
   "mimetype": "text/x-python",
   "codemirror_mode": {
    "name": "ipython",
    "version": 3
   },
   "pygments_lexer": "ipython3",
   "nbconvert_exporter": "python",
   "file_extension": ".py"
  },
  "kernelspec": {
   "name": "python3",
   "display_name": "Python 3.9.7 64-bit ('nlp1': conda)"
  },
  "interpreter": {
   "hash": "79186d9e57368759653e9099fc987cafac1abe6bb370cc1b52d74c81044501e4"
  }
 },
 "nbformat": 4,
 "nbformat_minor": 2
}